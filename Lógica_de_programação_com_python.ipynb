{
  "nbformat": 4,
  "nbformat_minor": 0,
  "metadata": {
    "colab": {
      "name": "Lógica_de_programação_com_python.ipynb",
      "provenance": [],
      "collapsed_sections": []
    },
    "kernelspec": {
      "name": "python3",
      "display_name": "Python 3"
    }
  },
  "cells": [
    {
      "cell_type": "markdown",
      "metadata": {
        "id": "WoZ6KdeoKQXg"
      },
      "source": [
        "Python é uma linguagem de programação de alto nível:\n",
        "\n",
        "---\n",
        "\n",
        "* A linguagem de baixo nível está mais próxima da linguagem de máquina.\n",
        "\n",
        "* Item da listaLinguagem de programação de alto nível como Python, possui um nível de abstração relativamente elevado, longe do código de máquina e mais próximo à linguagem humana.\n",
        "\n",
        "* A principal vantagem das linguagens de programação de baixo nível é o melhor aproveitamento e desempenho da máquina.\n",
        "\n",
        "Python é uma linguagem de programação interpretada, orientada a objetos, de alto nível e com semântica dinâmica.\n",
        "\n",
        "---\n",
        "\n",
        "* Python foi criada em 1990 por Guido Van Rossum no Centro de Matemática Stichting na Holanda como uma sucessora da linguagem ABC. Guido é lembrado como o principal autor de Python mas outros programadores ajudaram com muitas contribuições.\n",
        "* A linguagem ABC foi desenhada para uso de não programadores, mas logo de início mostrou certas limitações e restrições. A maior reclamação dos primeiros alunos não programadores dessa linguagem era a presença de regras arbitrárias que as linguagens de programação haviam estabelecido tradicionalmente - muita coisa de baixo nível ainda era feita e não agradou o público.\n",
        "\n",
        "Operadores do Python\n",
        "\n",
        "---\n",
        "\n",
        "\n",
        "1. a == b\t(a igual a b)\n",
        "\n",
        "2. a != b\t(a diferente de b)\n",
        "\n",
        "3. a < b\t(a menor do que b)\n",
        "\n",
        "4. a > b\t(a maior do que b)\n",
        "\n",
        "5. a <= b\t(a menor ou igual a b)\n",
        "\n",
        "6. a >= b\t(a maior ou igual a b)\n",
        "\n",
        "\n",
        "\n",
        "\n",
        "\n"
      ]
    },
    {
      "cell_type": "markdown",
      "metadata": {
        "id": "qykoO5OSy07O"
      },
      "source": [
        "# Lógica de programação com Python"
      ]
    },
    {
      "cell_type": "code",
      "metadata": {
        "id": "f7DCdMBq0M_x"
      },
      "source": [
        "idade = 24\n",
        "nome = 'Helena'"
      ],
      "execution_count": null,
      "outputs": []
    },
    {
      "cell_type": "code",
      "metadata": {
        "id": "ZXmObjc50Qe8",
        "colab": {
          "base_uri": "https://localhost:8080/"
        },
        "outputId": "1094ff0e-9acb-4837-d843-f757279c2a51"
      },
      "source": [
        "# print das variáveis criadas dentro de uma frase \n",
        "print(f'O nome é {nome} e sua idade é {idade} anos.')"
      ],
      "execution_count": null,
      "outputs": [
        {
          "output_type": "stream",
          "name": "stdout",
          "text": [
            "O nome é Helena e sua idade é 24 anos.\n"
          ]
        }
      ]
    },
    {
      "cell_type": "code",
      "metadata": {
        "id": "M_7Prhz80j9y"
      },
      "source": [
        "idade = 29"
      ],
      "execution_count": null,
      "outputs": []
    },
    {
      "cell_type": "code",
      "metadata": {
        "id": "C0jbYDJB08yx",
        "colab": {
          "base_uri": "https://localhost:8080/"
        },
        "outputId": "464383da-a5f5-4cac-8196-54c1995731fe"
      },
      "source": [
        "print(f'O nome é {nome} e sua idade é {idade} anos.')"
      ],
      "execution_count": null,
      "outputs": [
        {
          "output_type": "stream",
          "name": "stdout",
          "text": [
            "O nome é Helena e sua idade é 29 anos.\n"
          ]
        }
      ]
    },
    {
      "cell_type": "markdown",
      "metadata": {
        "id": "Ce53yJ9SVxjC"
      },
      "source": [
        "# Funções simples"
      ]
    },
    {
      "cell_type": "code",
      "metadata": {
        "id": "436zJkir_SjS"
      },
      "source": [
        "def saudacao():\n",
        "  nome = input('Qual é o seu nome? ')\n",
        "  print(f'Olá {nome}') "
      ],
      "execution_count": null,
      "outputs": []
    },
    {
      "cell_type": "code",
      "metadata": {
        "id": "3fijU6z5AVxi",
        "colab": {
          "base_uri": "https://localhost:8080/"
        },
        "outputId": "e9082b92-6b59-407b-bf41-7c14d88f1908"
      },
      "source": [
        "saudacao()"
      ],
      "execution_count": null,
      "outputs": [
        {
          "output_type": "stream",
          "name": "stdout",
          "text": [
            "Qual é o seu nome? mundo\n",
            "Olá mundo\n"
          ]
        }
      ]
    },
    {
      "cell_type": "code",
      "metadata": {
        "colab": {
          "base_uri": "https://localhost:8080/"
        },
        "id": "ZOzjqONIJ7Zx",
        "outputId": "1ad763da-1cec-487b-dcf2-110d25afaf03"
      },
      "source": [
        "def nome_completo():\n",
        " primeiro_nome = input('Qual seu primeiro nome? ')\n",
        " sobrenome = input('Qual seu sobrenome? ')\n",
        " nome_inteiro = primeiro_nome + ' ' + sobrenome\n",
        " print(nome_inteiro)\n",
        "\n",
        "nome_completo()"
      ],
      "execution_count": null,
      "outputs": [
        {
          "output_type": "stream",
          "name": "stdout",
          "text": [
            "Qual seu primeiro nome? Olá\n",
            "Qual seu sobrenome? mundo\n",
            "Olá mundo\n"
          ]
        }
      ]
    },
    {
      "cell_type": "code",
      "metadata": {
        "id": "88qhOQ6CVppz"
      },
      "source": [
        ""
      ],
      "execution_count": null,
      "outputs": []
    },
    {
      "cell_type": "markdown",
      "metadata": {
        "id": "YqgJLV6plKGn"
      },
      "source": [
        "# Funções simples + Parâmetros"
      ]
    },
    {
      "cell_type": "code",
      "metadata": {
        "id": "WZ0S7TIzlL3Y"
      },
      "source": [
        "nome = 'Helena'"
      ],
      "execution_count": null,
      "outputs": []
    },
    {
      "cell_type": "code",
      "metadata": {
        "id": "1I8q3czSlRfR"
      },
      "source": [
        "def saudacao_com_parametros(nome_da_pessoa):\n",
        "  print(f'Olá {nome_da_pessoa}')"
      ],
      "execution_count": null,
      "outputs": []
    },
    {
      "cell_type": "code",
      "metadata": {
        "id": "e3Gc170WlSsu",
        "colab": {
          "base_uri": "https://localhost:8080/"
        },
        "outputId": "06aa83f2-67f4-4a3b-f85a-078a4b768e6a"
      },
      "source": [
        "saudacao_com_parametros(nome)"
      ],
      "execution_count": null,
      "outputs": [
        {
          "output_type": "stream",
          "name": "stdout",
          "text": [
            "Olá Helena\n"
          ]
        }
      ]
    },
    {
      "cell_type": "markdown",
      "metadata": {
        "id": "z6vzg4CJm-Jt"
      },
      "source": [
        "# Condicional"
      ]
    },
    {
      "cell_type": "code",
      "metadata": {
        "id": "d-FD9ckim5Pb",
        "colab": {
          "base_uri": "https://localhost:8080/",
          "height": 34
        },
        "outputId": "f6a2a381-99c9-4c16-9085-420388f748c5"
      },
      "source": [
        "idade = 10\n",
        "\n",
        "def verifica_se_pode_dirigir(idade):\n",
        "  if idade >= 18:\n",
        "    print('Tem permissão para dirigir')\n",
        "  else:\n",
        "    print('Não tem permissão para dirigir')\n",
        "\n",
        "verifica_se_pode_dirigir(idade)"
      ],
      "execution_count": null,
      "outputs": [
        {
          "output_type": "stream",
          "text": [
            "Não tem permissão para dirigir\n"
          ],
          "name": "stdout"
        }
      ]
    },
    {
      "cell_type": "code",
      "metadata": {
        "colab": {
          "base_uri": "https://localhost:8080/"
        },
        "id": "uKkojBDXWT3N",
        "outputId": "df20924a-4263-49a8-adb2-2ce05b5093d6"
      },
      "source": [
        "def verifica_se_pode_dirigir_sem_parametros():\n",
        "  idade = input('Qual sua idade? ')\n",
        "  idade = int(idade) # Conversão de str para int\n",
        "  if idade >= 18:\n",
        "    print('Tem permissão para dirigir')\n",
        "  else:\n",
        "    print('Não tem permissão para dirigir')\n",
        "\n",
        "verifica_se_pode_dirigir_sem_parametros()"
      ],
      "execution_count": null,
      "outputs": [
        {
          "output_type": "stream",
          "name": "stdout",
          "text": [
            "Qual sua idade? 36\n",
            "Tem permissão para dirigir\n"
          ]
        }
      ]
    },
    {
      "cell_type": "markdown",
      "metadata": {
        "id": "dsoF5WyLsohy"
      },
      "source": [
        "# Trabalhando com listas"
      ]
    },
    {
      "cell_type": "code",
      "metadata": {
        "id": "Qx5n3YADsgcT",
        "colab": {
          "base_uri": "https://localhost:8080/",
          "height": 34
        },
        "outputId": "d065253b-e380-4fd7-c142-d29c7221ac39"
      },
      "source": [
        "idade = 22\n",
        "idade"
      ],
      "execution_count": null,
      "outputs": [
        {
          "output_type": "execute_result",
          "data": {
            "text/plain": [
              "22"
            ]
          },
          "metadata": {
            "tags": []
          },
          "execution_count": 109
        }
      ]
    },
    {
      "cell_type": "code",
      "metadata": {
        "id": "oI5JFDMfslqv",
        "colab": {
          "base_uri": "https://localhost:8080/",
          "height": 34
        },
        "outputId": "fab03f90-cc3f-4e3a-9e48-afb713e47d39"
      },
      "source": [
        "type(idade)"
      ],
      "execution_count": null,
      "outputs": [
        {
          "output_type": "execute_result",
          "data": {
            "text/plain": [
              "int"
            ]
          },
          "metadata": {
            "tags": []
          },
          "execution_count": 110
        }
      ]
    },
    {
      "cell_type": "code",
      "metadata": {
        "id": "wl3ZUnJ0s0Rd",
        "colab": {
          "base_uri": "https://localhost:8080/",
          "height": 34
        },
        "outputId": "308c4ccb-fb91-4085-b579-1dc12c3d2010"
      },
      "source": [
        "idades = [18, 22, 15, 50]\n",
        "type(idades)"
      ],
      "execution_count": null,
      "outputs": [
        {
          "output_type": "execute_result",
          "data": {
            "text/plain": [
              "list"
            ]
          },
          "metadata": {
            "tags": []
          },
          "execution_count": 112
        }
      ]
    },
    {
      "cell_type": "code",
      "metadata": {
        "id": "kSNAw_wys_hI",
        "colab": {
          "base_uri": "https://localhost:8080/",
          "height": 34
        },
        "outputId": "a96c0c49-64cd-49cf-ee16-f9ec7cecddc8"
      },
      "source": [
        "idades[2]"
      ],
      "execution_count": null,
      "outputs": [
        {
          "output_type": "execute_result",
          "data": {
            "text/plain": [
              "15"
            ]
          },
          "metadata": {
            "tags": []
          },
          "execution_count": 113
        }
      ]
    },
    {
      "cell_type": "code",
      "metadata": {
        "id": "f-BXWd7vtEH-"
      },
      "source": [
        "idades = [18, 22, 15, 50]\n",
        "#         0   1   2   3\n",
        "#         0  -3  -2  -1"
      ],
      "execution_count": null,
      "outputs": []
    },
    {
      "cell_type": "code",
      "metadata": {
        "id": "TnvEOFuLtQND",
        "colab": {
          "base_uri": "https://localhost:8080/",
          "height": 34
        },
        "outputId": "1a270fdd-5d6f-4e2d-9496-97f828245e4f"
      },
      "source": [
        "idades[0:3] # Mesmo sendo 'até a posição 3' a linguagem python esconde o último elemento "
      ],
      "execution_count": null,
      "outputs": [
        {
          "output_type": "execute_result",
          "data": {
            "text/plain": [
              "[18, 22, 15]"
            ]
          },
          "metadata": {
            "tags": []
          },
          "execution_count": 116
        }
      ]
    },
    {
      "cell_type": "code",
      "metadata": {
        "id": "xUxdyF5EtYsi",
        "colab": {
          "base_uri": "https://localhost:8080/",
          "height": 34
        },
        "outputId": "d1ac90b8-4811-4dca-f8ae-637febacdb11"
      },
      "source": [
        "idades[1:]"
      ],
      "execution_count": null,
      "outputs": [
        {
          "output_type": "execute_result",
          "data": {
            "text/plain": [
              "[22, 15, 50]"
            ]
          },
          "metadata": {
            "tags": []
          },
          "execution_count": 117
        }
      ]
    },
    {
      "cell_type": "markdown",
      "metadata": {
        "id": "A4ole1EvwvVL"
      },
      "source": [
        "# Laços e loops"
      ]
    },
    {
      "cell_type": "code",
      "metadata": {
        "id": "koCXWIJPt2UP",
        "colab": {
          "base_uri": "https://localhost:8080/",
          "height": 34
        },
        "outputId": "d3337591-0ba7-4950-abba-215452c2afec"
      },
      "source": [
        "idades"
      ],
      "execution_count": null,
      "outputs": [
        {
          "output_type": "execute_result",
          "data": {
            "text/plain": [
              "[18, 22, 15, 50]"
            ]
          },
          "metadata": {
            "tags": []
          },
          "execution_count": 121
        }
      ]
    },
    {
      "cell_type": "code",
      "metadata": {
        "id": "m6OT6-c3wpyM",
        "colab": {
          "base_uri": "https://localhost:8080/",
          "height": 84
        },
        "outputId": "3e2a3242-ca3c-4ccb-ab44-b9c1c6eaae0d"
      },
      "source": [
        "# for fora da função\n",
        "\n",
        "def verifica_se_pode_dirigir(idade):\n",
        "  if idade >= 18:\n",
        "    print(f'{idade} anos de idade, TEM permissão para dirigir')\n",
        "  else:\n",
        "    print(f'{idade} anos de idade, NÃO TEM permissão para dirigir')\n",
        "\n",
        "for idade in idades: \n",
        "  verifica_se_pode_dirigir(idade)"
      ],
      "execution_count": null,
      "outputs": [
        {
          "output_type": "stream",
          "text": [
            "18 anos de idade, TEM permissão para dirigir\n",
            "22 anos de idade, TEM permissão para dirigir\n",
            "15 anos de idade, NÃO TEM permissão para dirigir\n",
            "50 anos de idade, TEM permissão para dirigir\n"
          ],
          "name": "stdout"
        }
      ]
    },
    {
      "cell_type": "code",
      "metadata": {
        "id": "7C6NLsnaxap-",
        "colab": {
          "base_uri": "https://localhost:8080/",
          "height": 84
        },
        "outputId": "b96f244d-329a-4d19-aedb-a8105e9518ec"
      },
      "source": [
        "def verifica_se_pode_dirigir(idades):\n",
        "  for idade in idades:\n",
        "    if idade >= 18:\n",
        "      print(f'{idade} anos de idade, TEM permissão para dirigir')\n",
        "    else:\n",
        "      print(f'{idade} anos de idade, NÃO TEM permissão para dirigir')\n",
        "\n",
        "verifica_se_pode_dirigir(idades)\n"
      ],
      "execution_count": null,
      "outputs": [
        {
          "output_type": "stream",
          "text": [
            "18 anos de idade, TEM permissão para dirigir\n",
            "22 anos de idade, TEM permissão para dirigir\n",
            "15 anos de idade, NÃO TEM permissão para dirigir\n",
            "50 anos de idade, TEM permissão para dirigir\n"
          ],
          "name": "stdout"
        }
      ]
    },
    {
      "cell_type": "markdown",
      "metadata": {
        "id": "rsUr7whmzWhY"
      },
      "source": [
        "# Boleano"
      ]
    },
    {
      "cell_type": "code",
      "metadata": {
        "id": "8T8wJ28tzQpq",
        "colab": {
          "base_uri": "https://localhost:8080/"
        },
        "outputId": "8570fa2b-a8f8-4d99-8216-9f7499aa5271"
      },
      "source": [
        "idade = 18\n",
        "idade >= 18"
      ],
      "execution_count": null,
      "outputs": [
        {
          "output_type": "execute_result",
          "data": {
            "text/plain": [
              "True"
            ]
          },
          "metadata": {},
          "execution_count": 6
        }
      ]
    },
    {
      "cell_type": "code",
      "metadata": {
        "id": "Fsax-52ozf_V",
        "colab": {
          "base_uri": "https://localhost:8080/"
        },
        "outputId": "5e7764f1-cbe9-4740-ec29-757a3eafa917"
      },
      "source": [
        "idade = 15\n",
        "idade >= 18"
      ],
      "execution_count": null,
      "outputs": [
        {
          "output_type": "execute_result",
          "data": {
            "text/plain": [
              "False"
            ]
          },
          "metadata": {},
          "execution_count": 7
        }
      ]
    },
    {
      "cell_type": "code",
      "metadata": {
        "id": "5TrL0hmkzjhF"
      },
      "source": [
        "permissoes = [] # lista vazia\n",
        "idades = [20, 14, 40]\n",
        "\n",
        "def verifica_se_pode_dirigir(idades, permissoes):\n",
        "  for idade in idades:\n",
        "    if idade >= 18:\n",
        "      permissoes.append(True) # armazena novos valores na lista permissoes\n",
        "    else:\n",
        "      permissoes.append(False)\n",
        "\n",
        "verifica_se_pode_dirigir(idades, permissoes)"
      ],
      "execution_count": null,
      "outputs": []
    },
    {
      "cell_type": "code",
      "metadata": {
        "id": "MXqN-zxf0UmK",
        "colab": {
          "base_uri": "https://localhost:8080/"
        },
        "outputId": "51ccdd36-3241-4c14-e4ec-b87136855baf"
      },
      "source": [
        "permissoes"
      ],
      "execution_count": null,
      "outputs": [
        {
          "output_type": "execute_result",
          "data": {
            "text/plain": [
              "[True, False, True]"
            ]
          },
          "metadata": {},
          "execution_count": 9
        }
      ]
    },
    {
      "cell_type": "code",
      "metadata": {
        "id": "SDv5J8qx0Wet",
        "colab": {
          "base_uri": "https://localhost:8080/",
          "height": 67
        },
        "outputId": "702c1df9-3976-4129-beb8-d98afdcbe79c"
      },
      "source": [
        "for permissao in permissoes:\n",
        "  if permissao == True:\n",
        "    print('Tem permissão para dirigir')\n",
        "  else:\n",
        "    print('Não tem permissão para dirigir') "
      ],
      "execution_count": null,
      "outputs": [
        {
          "output_type": "stream",
          "text": [
            "Tem permissão para dirigir\n",
            "Não tem permissão para dirigir\n",
            "Tem permissão para dirigir\n"
          ],
          "name": "stdout"
        }
      ]
    },
    {
      "cell_type": "markdown",
      "metadata": {
        "id": "vdOrSJjHfyUS"
      },
      "source": [
        "# Tipos em uma lista"
      ]
    },
    {
      "cell_type": "code",
      "metadata": {
        "id": "d3OZM-F80189",
        "colab": {
          "base_uri": "https://localhost:8080/",
          "height": 84
        },
        "outputId": "994e5104-9071-4fa2-89e3-d6ba50d41521"
      },
      "source": [
        "lista = ['Guilherme', 28, True, '18']\n",
        "\n",
        "for elemento in lista:\n",
        "  print(f'O elemento {elemento} é do tipo: ', type(elemento))"
      ],
      "execution_count": null,
      "outputs": [
        {
          "output_type": "stream",
          "text": [
            "O elemento Guilherme é do tipo:  <class 'str'>\n",
            "O elemento 28 é do tipo:  <class 'int'>\n",
            "O elemento True é do tipo:  <class 'bool'>\n",
            "O elemento 18 é do tipo:  <class 'str'>\n"
          ],
          "name": "stdout"
        }
      ]
    },
    {
      "cell_type": "markdown",
      "metadata": {
        "id": "RrNcy3X-xVIh"
      },
      "source": [
        "# Import"
      ]
    },
    {
      "cell_type": "code",
      "metadata": {
        "id": "cTevC2tGwiZ_"
      },
      "source": [
        "from random import randrange, seed # importando dois módulos de uma biblioteca"
      ],
      "execution_count": null,
      "outputs": []
    },
    {
      "cell_type": "code",
      "metadata": {
        "id": "j6Z8PYfuyXsc"
      },
      "source": [
        "seed(15) # o seed garante que a lista aleatória sempre será a mesma"
      ],
      "execution_count": null,
      "outputs": []
    },
    {
      "cell_type": "code",
      "metadata": {
        "id": "jCa-0X4YxhIC",
        "colab": {
          "base_uri": "https://localhost:8080/"
        },
        "outputId": "add4f7ab-eabe-4f04-89d1-718f281812fd"
      },
      "source": [
        "randrange(0,11)"
      ],
      "execution_count": null,
      "outputs": [
        {
          "output_type": "execute_result",
          "data": {
            "text/plain": [
              "3"
            ]
          },
          "metadata": {},
          "execution_count": 48
        }
      ]
    },
    {
      "cell_type": "code",
      "metadata": {
        "id": "7dTMwODmxwzj",
        "colab": {
          "base_uri": "https://localhost:8080/"
        },
        "outputId": "479b5dd8-881c-4dd5-fb1b-4bfa4abd7f1b"
      },
      "source": [
        "notas_matematica = []\n",
        "\n",
        "for notas in range(8):\n",
        "  notas_matematica.append(randrange(0,11))\n",
        "\n",
        "notas_matematica"
      ],
      "execution_count": null,
      "outputs": [
        {
          "output_type": "execute_result",
          "data": {
            "text/plain": [
              "[0, 8, 0, 2, 3, 0, 0, 10]"
            ]
          },
          "metadata": {},
          "execution_count": 49
        }
      ]
    },
    {
      "cell_type": "code",
      "metadata": {
        "id": "rbfck3oWx-aN",
        "colab": {
          "base_uri": "https://localhost:8080/",
          "height": 34
        },
        "outputId": "1e076ad6-e7f4-44f1-a9b6-66da68cac0b6"
      },
      "source": [
        "len(notas_matematica)"
      ],
      "execution_count": null,
      "outputs": [
        {
          "output_type": "execute_result",
          "data": {
            "text/plain": [
              "8"
            ]
          },
          "metadata": {
            "tags": []
          },
          "execution_count": 12
        }
      ]
    },
    {
      "cell_type": "markdown",
      "metadata": {
        "id": "y1pVu50b01Pi"
      },
      "source": [
        "# Matplotlib"
      ]
    },
    {
      "cell_type": "code",
      "metadata": {
        "id": "VttCCSEAyNVy"
      },
      "source": [
        "import matplotlib.pyplot as plt"
      ],
      "execution_count": null,
      "outputs": []
    },
    {
      "cell_type": "code",
      "metadata": {
        "id": "qC5cBhqj1GHV",
        "colab": {
          "base_uri": "https://localhost:8080/",
          "height": 295
        },
        "outputId": "f963dd23-2f0c-4c44-9d70-37765d6f2f17"
      },
      "source": [
        "x = list(range(1, 9))\n",
        "y = notas_matematica\n",
        "plt.plot(x, y, marker='o')\n",
        "plt.title('Notas de matemática')\n",
        "plt.xlabel('Provas')\n",
        "plt.ylabel('Notas')\n",
        "plt.show()"
      ],
      "execution_count": null,
      "outputs": [
        {
          "output_type": "display_data",
          "data": {
            "image/png": "[encoded data removed]",
            "text/plain": [
              "<Figure size 432x288 with 1 Axes>"
            ]
          },
          "metadata": {
            "needs_background": "light"
          }
        }
      ]
    },
    {
      "cell_type": "code",
      "metadata": {
        "id": "1Cc1SeYE1i2x",
        "colab": {
          "base_uri": "https://localhost:8080/"
        },
        "outputId": "6a58dfef-a7f8-461f-be0b-143280659d64"
      },
      "source": [
        "notas_matematica"
      ],
      "execution_count": null,
      "outputs": [
        {
          "output_type": "execute_result",
          "data": {
            "text/plain": [
              "[0, 8, 0, 2, 3, 0, 0, 10]"
            ]
          },
          "metadata": {},
          "execution_count": 52
        }
      ]
    },
    {
      "cell_type": "code",
      "metadata": {
        "id": "pHzAKhxqj5uZ"
      },
      "source": [
        "notas_matematica = ['Matemática',8,7,6,6,7,7,8,10]\n",
        "notas_portugues = ['Português',9,9,9,8,5,6,8,5]\n",
        "notas_geografia = ['Geografia',10,10,6,7,7,7,8,7]\n",
        "\n",
        "notas = [notas_matematica, notas_portugues, notas_geografia]"
      ],
      "execution_count": null,
      "outputs": []
    },
    {
      "cell_type": "code",
      "metadata": {
        "colab": {
          "base_uri": "https://localhost:8080/",
          "height": 851
        },
        "id": "d7U3vgn6j6NG",
        "outputId": "4af46bf9-eb86-40c5-b92e-d0f457875316"
      },
      "source": [
        "for nota in notas:\n",
        " x = list(range(1, 9))\n",
        " y = nota[1:]\n",
        " plt.plot(x, y, marker='o')\n",
        " plt.xlabel('Provas')\n",
        " plt.ylabel('Notas')\n",
        " plt.title(nota[0])\n",
        " plt.show()"
      ],
      "execution_count": null,
      "outputs": [
        {
          "output_type": "display_data",
          "data": {
            "image/png": "[encoded data removed]",
            "text/plain": [
              "<Figure size 432x288 with 1 Axes>"
            ]
          },
          "metadata": {
            "needs_background": "light"
          }
        },
        {
          "output_type": "display_data",
          "data": {
            "image/png": "[encoded data removed]",
            "text/plain": [
              "<Figure size 432x288 with 1 Axes>"
            ]
          },
          "metadata": {
            "needs_background": "light"
          }
        },
        {
          "output_type": "display_data",
          "data": {
            "image/png": "[encoded data removed]",
            "text/plain": [
              "<Figure size 432x288 with 1 Axes>"
            ]
          },
          "metadata": {
            "needs_background": "light"
          }
        }
      ]
    }
  ]
}